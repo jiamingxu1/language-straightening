{
 "cells": [
  {
   "cell_type": "code",
   "execution_count": 7,
   "id": "9f9e664a-3524-44f3-bd92-fd4639805521",
   "metadata": {},
   "outputs": [],
   "source": [
    "import h5py\n",
    "import numpy as np"
   ]
  },
  {
   "cell_type": "code",
   "execution_count": 8,
   "id": "f077cfa8-95b6-41f5-bfe8-2e3c5e477a16",
   "metadata": {},
   "outputs": [
    {
     "name": "stdout",
     "output_type": "stream",
     "text": [
      "['data']\n",
      "(3, 135, 95556)\n"
     ]
    }
   ],
   "source": [
    "path = '/Users/jiamingxu/Desktop/Language_straightenting/data/vision/S3_sintel.hf5'\n",
    "with h5py.File(path, 'r') as dataset:\n",
    "    # list items in the file to find the dataset we want\n",
    "    print(list(dataset.keys()))\n",
    "    dataset_name = list(dataset.keys())[0]\n",
    "    # print the shape of the dataset (nRepeats x nTimepoints x nVoxels)\n",
    "    dataset = dataset[dataset_name]\n",
    "    print(dataset.shape) \n",
    "    # inspect the elements in the dataset\n",
    "    partial_data = dataset[0,:,0]\n",
    "    print(partial_data)"
   ]
  },
  {
   "cell_type": "code",
   "execution_count": null,
   "id": "fcd4f5ff-56b4-4d51-8403-13816a847f6e",
   "metadata": {},
   "outputs": [],
   "source": []
  }
 ],
 "metadata": {
  "kernelspec": {
   "display_name": "Python 3 (ipykernel)",
   "language": "python",
   "name": "python3"
  },
  "language_info": {
   "codemirror_mode": {
    "name": "ipython",
    "version": 3
   },
   "file_extension": ".py",
   "mimetype": "text/x-python",
   "name": "python",
   "nbconvert_exporter": "python",
   "pygments_lexer": "ipython3",
   "version": "3.11.4"
  }
 },
 "nbformat": 4,
 "nbformat_minor": 5
}
