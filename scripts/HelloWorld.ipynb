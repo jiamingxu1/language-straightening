{
 "cells": [
  {
   "cell_type": "markdown",
   "id": "e12a2a2e-09b2-442e-afef-19a00123f18a",
   "metadata": {},
   "source": [
    "Python syntax\n",
    "- python is structured using indentation, no need to use ;\n",
    "- help()"
   ]
  },
  {
   "cell_type": "code",
   "execution_count": 26,
   "id": "60317507-b600-4f0f-88c7-7f0e709f0936",
   "metadata": {},
   "outputs": [
    {
     "data": {
      "text/plain": [
       "[1, 2, 3, 6]"
      ]
     },
     "execution_count": 26,
     "metadata": {},
     "output_type": "execute_result"
    }
   ],
   "source": [
    "# math:\n",
    "2 ** 3 #exponential\n",
    "22 % 8 #remainder/modulus\n",
    "round(3.14)\n",
    "\n",
    "# sorting\n",
    "numbers = [2, 5, 3.14, 1, -7]\n",
    "numbers.sort()\n",
    "numbers.sort(reverse = true)\n",
    "numbers\n",
    "\n",
    "sorted([2,1,3,6])"
   ]
  },
  {
   "cell_type": "code",
   "execution_count": 30,
   "id": "609adbe6-6f8a-4ad8-b83d-09b21ced8cb0",
   "metadata": {},
   "outputs": [
    {
     "data": {
      "text/plain": [
       "True"
      ]
     },
     "execution_count": 30,
     "metadata": {},
     "output_type": "execute_result"
    }
   ],
   "source": [
    "# logic operators \n",
    "(4 < 5) and (5 < 6)\n",
    "(4 < 5) or (5 != 6)\n",
    "2 + 2 == 4 and not 2 + 2 == 5\n",
    "2 + 2 == 4 and not 2 + 2 == 5 and 2 * 2 == 2 + 2\n",
    "5 > 4 or 3 < 4 and 5 > 5 # and gets evaluated first\n",
    "(5 > 4 or 3 < 4) and 5 > 5 # () gets evaluated first"
   ]
  },
  {
   "cell_type": "code",
   "execution_count": 15,
   "id": "e299392b-4c10-4633-9c6d-47905de5fa9c",
   "metadata": {},
   "outputs": [
    {
     "name": "stdout",
     "output_type": "stream",
     "text": [
      "4\n",
      "['item', 'item', 'item']\n",
      "itemitemitemitemitem\n",
      "itemdog\n"
     ]
    }
   ],
   "source": [
    "# assignment operators\n",
    "# var += 1 -> var = var + 1 (works for all data types and +-*/)\n",
    "num = 2\n",
    "num *= 2\n",
    "num\n",
    "\n",
    "list = ['item']\n",
    "list *= 3 \n",
    "list"
   ]
  },
  {
   "cell_type": "code",
   "execution_count": 22,
   "id": "93bf6c99-e68d-4c4a-a3fe-03297bf9d7d8",
   "metadata": {},
   "outputs": [
    {
     "name": "stdout",
     "output_type": "stream",
     "text": [
      "20\n",
      "hello\n"
     ]
    }
   ],
   "source": [
    "# variables\n",
    "age = 20\n",
    "print(age)\n",
    "\n",
    "# walrus operator \n",
    "# allows assignment of var within an expression while returning the value of the variable\n",
    "print(my_var := \"hello\")"
   ]
  },
  {
   "cell_type": "code",
   "execution_count": 33,
   "id": "55af5eac-f5db-4128-b85c-212af78595e0",
   "metadata": {},
   "outputs": [
    {
     "name": "stdin",
     "output_type": "stream",
     "text": [
      "Who are you D\n"
     ]
    },
    {
     "name": "stdout",
     "output_type": "stream",
     "text": [
      "Hi,D\n"
     ]
    }
   ],
   "source": [
    "# if statements\n",
    "name = 'D'\n",
    "if name == 'B':\n",
    "    print('Hi, B')\n",
    "elif name == 'C':\n",
    "    print('Hi, C')\n",
    "else:\n",
    "    my_name = input('Who are you')\n",
    "    print(f'Hi,{my_name}')"
   ]
  },
  {
   "cell_type": "code",
   "execution_count": 34,
   "id": "ddd4510b-3bee-4ea5-a628-cc4ddb447d50",
   "metadata": {},
   "outputs": [
    {
     "name": "stdout",
     "output_type": "stream",
     "text": [
      "hello world\n",
      "hello world\n",
      "hello world\n",
      "hello world\n",
      "hello world\n"
     ]
    }
   ],
   "source": [
    "# while loops\n",
    "spam = 0\n",
    "while spam < 5:\n",
    "    print('hello world')\n",
    "    spam = spam + 1"
   ]
  },
  {
   "cell_type": "code",
   "execution_count": 65,
   "id": "ae1e5a7a-a55c-4157-bd8c-f2c258d44f31",
   "metadata": {},
   "outputs": [
    {
     "name": "stdout",
     "output_type": "stream",
     "text": [
      "cat\n",
      "dog\n",
      "turtle\n",
      "index 0: cat\n",
      "index 1: dog\n",
      "index 2: turtle\n",
      "table costs $100\n",
      "chair costs $50\n",
      "rack costs $80\n",
      "shelf costs $40\n"
     ]
    }
   ],
   "source": [
    "# for loops\n",
    "pets = ['cat','dog','turtle']\n",
    "for pet in pets:\n",
    "    print(pet)\n",
    "\n",
    "# enumerate(): \n",
    "# allows you to loop through an iterable and retrieve both the index and the corresponding value \n",
    "for index, pet in enumerate(pets):\n",
    "    print(f\"index {index}: {pet}\")\n",
    "\n",
    "# loop in multiple lists with zip():\n",
    "furniture = ['table', 'chair', 'rack', 'shelf']\n",
    "price = [100, 50, 80, 40]\n",
    "for item, amount in zip(furniture, price):\n",
    "    print(f\"{item} costs ${amount}\")"
   ]
  },
  {
   "cell_type": "code",
   "execution_count": 66,
   "id": "f95087c5-60a2-4380-9966-6e2bcd911fff",
   "metadata": {},
   "outputs": [
    {
     "data": {
      "text/plain": [
       "1"
      ]
     },
     "execution_count": 66,
     "metadata": {},
     "output_type": "execute_result"
    }
   ],
   "source": [
    "# list\n",
    "furniture = ['table', 'chair', 'rack', 'shelf']\n",
    "\n",
    "# indexing start from 0\n",
    "furniture[0]\n",
    "# ['table']\n",
    "\n",
    "furniture[-1]\n",
    "# ['shelf']\n",
    "\n",
    "furniture[0:4]\n",
    "# ['table', 'chair', 'rack', 'shelf']\n",
    "\n",
    "furniture[1:3]\n",
    "# ['chair', 'rack']\n",
    "\n",
    "furniture[0:-1]\n",
    "# ['table', 'chair', 'rack']\n",
    "\n",
    "furniture[:2]\n",
    "# ['table', 'chair']\n",
    "\n",
    "furniture[1:]\n",
    "# ['chair', 'rack', 'shelf']\n",
    "\n",
    "furniture[:]\n",
    "# ['table', 'chair', 'rack', 'shelf']\n",
    "\n",
    "# concatenation & replication\n",
    "[1,2,3]+[2,3,4]\n",
    "[1,2,3]*3\n",
    "\n",
    "# get index\n",
    "furniture.index('chair')"
   ]
  },
  {
   "cell_type": "code",
   "execution_count": 90,
   "id": "94afe370-33c9-4888-b819-19649c3cc80f",
   "metadata": {},
   "outputs": [
    {
     "data": {
      "text/plain": [
       "[2, 6, 6, 12, 10, 18]"
      ]
     },
     "execution_count": 90,
     "metadata": {},
     "output_type": "execute_result"
    }
   ],
   "source": [
    "# list comprehension \n",
    "# create a new list from an existing collection with a for loop\n",
    "pets = ['dogs','cats','penguins']\n",
    "new_list = []\n",
    "for pet in pets:\n",
    "    new_list.append(pet)\n",
    "new_list\n",
    "\n",
    "# do the same with a list comprehension\n",
    "new_list = [pet for pet in pets]\n",
    "new_list\n",
    "\n",
    "# works for numbers\n",
    "new_set = [(num1,num2) for num1 in range(1,3) for num2 in range(1,3)]\n",
    "new_set\n",
    "\n",
    "# add conditions \n",
    "new_list = [pet for pet in pets if pet.startswith('p')]\n",
    "new_list\n",
    "numbers = [1,2,3,4,5,6]\n",
    "new_set = [num*2 if num % 2 == 1 else num*3 for num in numbers]\n",
    "new_set"
   ]
  },
  {
   "cell_type": "code",
   "execution_count": 98,
   "id": "898013af-388d-4ce5-9a5f-811f2bb229e4",
   "metadata": {},
   "outputs": [
    {
     "name": "stdout",
     "output_type": "stream",
     "text": [
      "fat\n",
      "black and white\n",
      "mad\n",
      "size\n",
      "color\n",
      "disposition\n",
      "('size', 'fat')\n",
      "('color', 'black and white')\n",
      "('disposition', 'mad')\n"
     ]
    },
    {
     "data": {
      "text/plain": [
       "{'size': 'fat', 'color': 'black and white', 'disposition': 'mad'}"
      ]
     },
     "execution_count": 98,
     "metadata": {},
     "output_type": "execute_result"
    }
   ],
   "source": [
    "# dictionary (key: value)\n",
    "my_cow = {'size': 'fat',\n",
    "          'color': 'black and white',\n",
    "          'disposition': 'mad'}\n",
    "\n",
    "for value in my_cow.values():\n",
    "    print(value)\n",
    "\n",
    "for key in my_cow.keys():\n",
    "    print(key)\n",
    "\n",
    "for item in my_cow.items():\n",
    "    print(item)\n",
    "\n",
    "# dict comprehension\n",
    "new_cow = [value for value in my_cow.values()]\n",
    "new_cow = {key: value for key,value in my_cow.items()}\n",
    "new_cow"
   ]
  },
  {
   "cell_type": "code",
   "execution_count": 49,
   "id": "444fa83c-2558-4168-a273-4c995c32d39a",
   "metadata": {},
   "outputs": [
    {
     "name": "stdout",
     "output_type": "stream",
     "text": [
      "hello from our function\n",
      "4\n",
      "8\n",
      "14\n"
     ]
    }
   ],
   "source": [
    "# function\n",
    "def our_function():\n",
    "    print(\"hello from our function\")\n",
    "our_function() #calling the function\n",
    "\n",
    "def sum(num1,num2):\n",
    "    return num1 + num2\n",
    "print(sum(1,3))\n",
    "\n",
    "# one-line lambda function\n",
    "add = lambda num1,num2: num1+num2\n",
    "print(add(5,3))\n",
    "\n",
    "# accessing a global variable from within a function\n",
    "def spam():\n",
    "    global eggs\n",
    "    eggs = 14\n",
    "spam()\n",
    "print(eggs)"
   ]
  },
  {
   "cell_type": "code",
   "execution_count": 44,
   "id": "061fdbb7-68ba-46a2-a8cf-92799a37f025",
   "metadata": {},
   "outputs": [
    {
     "name": "stdin",
     "output_type": "stream",
     "text": [
      "what's your name? f\n"
     ]
    },
    {
     "name": "stdout",
     "output_type": "stream",
     "text": [
      "Hi, f\n",
      "Hi, f\n"
     ]
    }
   ],
   "source": [
    "# user input \n",
    "my_name = input(\"what's your name?\")\n",
    "print('Hi, {}'.format(my_name))\n",
    "print(f'Hi, {my_name}')"
   ]
  },
  {
   "cell_type": "code",
   "execution_count": 57,
   "id": "4c82e530-4115-4532-b526-54af1e139af1",
   "metadata": {},
   "outputs": [
    {
     "name": "stdout",
     "output_type": "stream",
     "text": [
      "not empty\n"
     ]
    }
   ],
   "source": [
    "# matrix math\n",
    "a = [1, 2, 3]\n",
    "\n",
    "# length\n",
    "len(a) \n",
    "\n",
    "# test emptiness\n",
    "if a: # evaluates to true\n",
    "    print('not empty')"
   ]
  }
 ],
 "metadata": {
  "kernelspec": {
   "display_name": "Python 3 (ipykernel)",
   "language": "python",
   "name": "python3"
  },
  "language_info": {
   "codemirror_mode": {
    "name": "ipython",
    "version": 3
   },
   "file_extension": ".py",
   "mimetype": "text/x-python",
   "name": "python",
   "nbconvert_exporter": "python",
   "pygments_lexer": "ipython3",
   "version": "3.11.4"
  }
 },
 "nbformat": 4,
 "nbformat_minor": 5
}
