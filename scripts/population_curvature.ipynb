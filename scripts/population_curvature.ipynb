{
 "cells": [
  {
   "cell_type": "markdown",
   "id": "cfb35fe3-47b7-41c3-8a36-fb10271c9cdd",
   "metadata": {},
   "source": [
    "# Compute curvature directly on population level"
   ]
  },
  {
   "cell_type": "code",
   "execution_count": 3,
   "id": "31eb1689-f8d5-4b0e-bbe8-11436c5a1da3",
   "metadata": {},
   "outputs": [],
   "source": [
    "%matplotlib inline\n",
    "import cortex\n",
    "import matplotlib as mpl\n",
    "import matplotlib.pyplot as plt\n",
    "import numpy as np\n",
    "import scipy as sp\n",
    "import h5py"
   ]
  },
  {
   "cell_type": "markdown",
   "id": "9a29b098-7569-46bd-a436-f0dc45559f4f",
   "metadata": {},
   "source": [
    "#### Load language data"
   ]
  },
  {
   "cell_type": "code",
   "execution_count": 4,
   "id": "59cc662b-4eda-4e20-969d-9bca99cae802",
   "metadata": {},
   "outputs": [
    {
     "name": "stdout",
     "output_type": "stream",
     "text": [
      "(10, 241, 95556)\n"
     ]
    }
   ],
   "source": [
    "path = '/Users/jiamingxu/Desktop/Language_straightenting/data/language/AA_wheretheressmoke.hf5'\n",
    "with h5py.File(path, 'r') as file:\n",
    "    file_name = list(file.keys())[0]\n",
    "    response_trials = np.array(file[file_name])\n",
    "    # get rid of the first 50 TRs (due to onset effect in AC)\n",
    "    response_trials = response_trials[:, 50:, :]\n",
    "    print(response_trials.shape) \n",
    "\n",
    "subject, xfm = 'AA', '20180905AA-sg-auto'\n",
    "mask = cortex.db.get_mask(subject, xfm)"
   ]
  },
  {
   "cell_type": "markdown",
   "id": "baa15e42-5043-4b80-9502-311735e0a1ef",
   "metadata": {},
   "source": [
    "#### Get ROIs"
   ]
  },
  {
   "cell_type": "code",
   "execution_count": 5,
   "id": "34d7aed8-8c50-4fd7-8f71-6df5133c8c41",
   "metadata": {},
   "outputs": [
    {
     "name": "stdout",
     "output_type": "stream",
     "text": [
      "Cutting 0 overlapping voxels (should be < ~50)\n"
     ]
    }
   ],
   "source": [
    "# choose functional roi \n",
    "#f_rois = ['V1','hMT','FFA']  \n",
    "f_rois = ['AC','sPMv']\n",
    "f_roi_voxs = {} # get indices of roi voxels in cortical map\n",
    "# get 3d mask of voxels that belong to roi\n",
    "roi_masks = cortex.utils.get_roi_masks(subject, xfm, roi_list=f_rois, gm_sampler='cortical', split_lr=False, threshold=None, return_dict=True)\n",
    "for roi in f_rois:\n",
    "    roi_mask = roi_masks[roi]\n",
    "    f_roi_voxs[roi] = np.where(roi_mask[np.where(mask)])[0]"
   ]
  },
  {
   "cell_type": "code",
   "execution_count": 6,
   "id": "b5872837-7eef-4ae9-b447-1b1c0b24cf3a",
   "metadata": {},
   "outputs": [
    {
     "name": "stdout",
     "output_type": "stream",
     "text": [
      "/Users/jiamingxu/Desktop/Language_straightenting/data/rois\n",
      "AC: 2124 items\n",
      "sPMv: 271 items\n",
      "precuneus: 2845 items\n",
      "prefrontal: 15222 items\n"
     ]
    },
    {
     "name": "stderr",
     "output_type": "stream",
     "text": [
      "/Users/jiamingxu/miniconda3/lib/python3.11/site-packages/IPython/core/magics/osm.py:417: UserWarning: using dhist requires you to install the `pickleshare` library.\n",
      "  self.shell.db['dhist'] = compress_dhist(dhist)[-100:]\n"
     ]
    }
   ],
   "source": [
    "# choose anatomical roi (PFC & precuneus)\n",
    "%cd 'data/rois'\n",
    "a_roi = ['parsopercularis','parstriangularis','superiorfrontal','rostralmiddlefrontal','caudalmiddlefrontal','frontalpole','precuneus']\n",
    "roi_data = np.load(f'{subject}_roi.npy', allow_pickle=True).item()\n",
    "a_roi_voxs = {}\n",
    "for roi in a_roi:\n",
    "    a_roi_voxs[roi] = roi_data[roi]\n",
    "    \n",
    "# combine PFC rois\n",
    "rois_to_combine = [\n",
    "    'parsopercularis',\n",
    "    'parstriangularis',\n",
    "    'superiorfrontal',\n",
    "    'rostralmiddlefrontal',\n",
    "    'caudalmiddlefrontal',\n",
    "    'frontalpole'\n",
    "]\n",
    "pfc_voxs = []\n",
    "for roi in rois_to_combine:\n",
    "    pfc_voxs.extend(a_roi_voxs[roi])\n",
    "    \n",
    "pfc_voxs = list(set(pfc_voxs)) # remove potential duplicates\n",
    "\n",
    "a_roi_voxs['prefrontal'] = pfc_voxs # update dict \n",
    "\n",
    "for roi in rois_to_combine: # remove old keys\n",
    "    del a_roi_voxs[roi]\n",
    "\n",
    "\n",
    "# combine functional and anatomical\n",
    "roi_voxs = {**f_roi_voxs, **a_roi_voxs}  \n",
    "\n",
    "# print number of voxels in each ROI\n",
    "len(roi_voxs)\n",
    "for key, value in roi_voxs.items():\n",
    "    print(f\"{key}: {len(value)} items\")"
   ]
  },
  {
   "cell_type": "markdown",
   "id": "884e8038-77ff-49f2-9b9b-850327569464",
   "metadata": {},
   "source": [
    "#### Compute curvature"
   ]
  },
  {
   "cell_type": "code",
   "execution_count": 9,
   "id": "14fa6fe2-700c-4139-9b7d-adb7dfd1f9ad",
   "metadata": {},
   "outputs": [],
   "source": [
    "# compute (average) curvature from a set of observations\n",
    "def curvature(X):\n",
    "    V = X[1:] - X[:-1]\n",
    "    norms = np.sqrt((V**2).sum(axis=1))\n",
    "    dots = (V[1:] * V[:-1]).sum(axis=1)\n",
    "    coss = dots / (norms[1:] * norms[:-1])\n",
    "    #print(coss)\n",
    "    angles = np.arccos(coss)\n",
    "    return angles.mean()"
   ]
  },
  {
   "cell_type": "code",
   "execution_count": 13,
   "id": "9c1e34c6-5c1e-48ca-93ed-982abf0c6a8c",
   "metadata": {},
   "outputs": [
    {
     "name": "stdout",
     "output_type": "stream",
     "text": [
      "Average Curvature for AC: 105.30823970921482\n",
      "Average Curvature for sPMv: 106.7915441391399\n",
      "Average Curvature for precuneus: 109.14056376475351\n",
      "Average Curvature for prefrontal: 110.6685390969067\n"
     ]
    }
   ],
   "source": [
    "mean_signals = np.mean(response_trials, axis = 0)\n",
    "\n",
    "# this dict stores roi: a 2d array (timepoints x voxels) \n",
    "roi_data = {}\n",
    "\n",
    "# number of voxels per ROI (dimensionality) \n",
    "n_voxels = 2000\n",
    "\n",
    "for roi in roi_voxs:\n",
    "    voxel_indices = roi_voxs[roi]  \n",
    "    \n",
    "    if len(voxel_indices) < n_voxels:\n",
    "        selected_voxels = np.random.choice(voxel_indices, n_voxels, replace=True)\n",
    "    else:\n",
    "        selected_voxels = np.random.choice(voxel_indices, n_voxels, replace=False)\n",
    "    \n",
    "    roi_voxel_data = mean_signals[:, selected_voxels]  # shape: (timepoints x n_voxels)\n",
    "    roi_data[roi] = roi_voxel_data\n",
    "\n",
    "for roi in roi_data:\n",
    "    curv = np.degrees(curvature(roi_data[roi]))\n",
    "    print(f\"Average Curvature for {roi}: {curv}\")"
   ]
  }
 ],
 "metadata": {
  "kernelspec": {
   "display_name": "Python 3 (ipykernel)",
   "language": "python",
   "name": "python3"
  },
  "language_info": {
   "codemirror_mode": {
    "name": "ipython",
    "version": 3
   },
   "file_extension": ".py",
   "mimetype": "text/x-python",
   "name": "python",
   "nbconvert_exporter": "python",
   "pygments_lexer": "ipython3",
   "version": "3.11.4"
  }
 },
 "nbformat": 4,
 "nbformat_minor": 5
}
