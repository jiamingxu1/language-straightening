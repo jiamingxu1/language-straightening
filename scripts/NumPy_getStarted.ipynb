{
 "cells": [
  {
   "cell_type": "markdown",
   "id": "11182038-a49b-4cf0-b3ac-6ddadc3d9c38",
   "metadata": {},
   "source": [
    "**NumPy syntax**\n",
    "\n",
    "Complex number\n",
    "1j\n",
    "\n",
    "Load data \n",
    "io.loadmat('data.mat')\n",
    "\n",
    "dimensionality\n",
    "numel(a)  |  np.size(a)\n",
    "size(a)   |  np.shape(a)\n",
    "size(a,n) |  a.shape[n-1]"
   ]
  },
  {
   "cell_type": "code",
   "execution_count": 2,
   "id": "3fc249f6-bd68-43aa-9b9c-7019701b71e3",
   "metadata": {},
   "outputs": [],
   "source": [
    "import numpy as np\n",
    "from scipy import io, integrate, linalg, signal\n",
    "from scipy.sparse.linalg import cg, eigs"
   ]
  },
  {
   "cell_type": "code",
   "execution_count": 9,
   "id": "7b71ea0e-fb06-439c-a1d1-924445d6fa0b",
   "metadata": {},
   "outputs": [
    {
     "name": "stdout",
     "output_type": "stream",
     "text": [
      "blabla\n"
     ]
    },
    {
     "data": {
      "text/plain": [
       "'\\nfor i in range(1,4):\\n    print(i)\\n'"
      ]
     },
     "execution_count": 9,
     "metadata": {},
     "output_type": "execute_result"
    }
   ],
   "source": [
    "# for loops\n",
    "for i in range(1,4):\n",
    "    print(i)\n",
    "\n",
    "# matlab equivalent \n",
    "# for i = 1:3 \n",
    "# end"
   ]
  },
  {
   "cell_type": "code",
   "execution_count": 23,
   "id": "fea5ea1f-be44-41e1-b4d6-8a4a48384d0d",
   "metadata": {},
   "outputs": [
    {
     "data": {
      "text/plain": [
       "array([[1, 4],\n",
       "       [2, 5],\n",
       "       [3, 6]])"
      ]
     },
     "execution_count": 23,
     "metadata": {},
     "output_type": "execute_result"
    }
   ],
   "source": [
    "# matrix dimensionality\n",
    "a = np.array([[1,2,3],[4,5,6]])\n",
    "a.T # a'\n",
    "np.size(a) # numel()\n",
    "np.shape(a) # size()\n",
    "a.shape[0] # size(a,n-1)\n",
    "a[-1] # a(end)\n",
    "a[0,2] # a(1,3)\n",
    "a[1,:] # a(2,:)\n",
    "a[:5,:] # a(1:5,:)\n",
    "a.T"
   ]
  },
  {
   "cell_type": "code",
   "execution_count": 25,
   "id": "21b65be3-751f-41ef-8bab-9898a0f2bed1",
   "metadata": {},
   "outputs": [
    {
     "data": {
      "text/plain": [
       "array([[22, 28],\n",
       "       [49, 64]])"
      ]
     },
     "execution_count": 25,
     "metadata": {},
     "output_type": "execute_result"
    }
   ],
   "source": [
    "# matrix math\n",
    "a = np.array([[1,2,3],[4,5,6]])\n",
    "b = np.array([[1,2],[3,4],[5,6]])\n",
    "a @ b # a*b \n",
    "a * b # a.*b\n",
    "a**2  # a.^2"
   ]
  },
  {
   "cell_type": "code",
   "execution_count": 101,
   "id": "d16f5470-698a-4865-bfe1-f87f330c0033",
   "metadata": {},
   "outputs": [
    {
     "name": "stdout",
     "output_type": "stream",
     "text": [
      "[[1 2 3]\n",
      " [4 5 6]]\n"
     ]
    },
    {
     "data": {
      "text/plain": [
       "[array([[0.],\n",
       "        [1.],\n",
       "        [2.],\n",
       "        [3.],\n",
       "        [4.],\n",
       "        [5.],\n",
       "        [6.],\n",
       "        [7.],\n",
       "        [8.]]),\n",
       " array([[0., 1., 2., 3., 4., 5.]])]"
      ]
     },
     "execution_count": 101,
     "metadata": {},
     "output_type": "execute_result"
    }
   ],
   "source": [
    "# find idx \n",
    "a = np.array([[1,2,3],[4,5,6]])\n",
    "print(a)\n",
    "indices = np.where(a > 2) # find()\n",
    "row_idx, col_idx = indices\n",
    "np.array([row_idx,col_idx]).T\n",
    "\n",
    "# zero out\n",
    "a * (a > 2) # zero out entries that are <= 2\n",
    "\n",
    "# assign y = x\n",
    "y = a.copy()\n",
    "z = a[1,:].copy()\n",
    "\n",
    "# flatten (array -> vector)\n",
    "y = a.flatten() # y = x(:)\n",
    "\n",
    "# create a column vector of cont' integers \n",
    "np.arange(1,11)[:, np.newaxis] # [1,10]'\n",
    "np.arange(1,11).reshape(-1,1)\n",
    "\n",
    "# zero matrix\n",
    "np.zeros((3,4))\n",
    "\n",
    "# identity matrix\n",
    "np.eye(3)\n",
    "\n",
    "# returns diag elements of a matrix\n",
    "np.diag(a)\n",
    "np.diag(y,0) \n",
    "\n",
    "# rng\n",
    "from numpy.random import default_rng\n",
    "rng = default_rng(42) # seed = 42\n",
    "rng.random((3,4))\n",
    "\n",
    "# linspace\n",
    "np.linspace(1,3,4)\n",
    "\n",
    "# meshgrid\n",
    "x, y = np.mgrid[0:9,0:6]\n",
    "\n",
    "# concatenate cols\n",
    "np.hstack(a,b)\n",
    "\n",
    "# concatenate rows\n",
    "np.vstack(a,b)\n",
    "\n",
    "# max\n",
    "a.max\n",
    "a.max(0) # max of each col\n",
    "a.max(1) # max of each row\n",
    "\n",
    "# inverse\n",
    "linalg.inv(a)\n",
    "linalg.pinv(a) # pseudo-inverse\n",
    "\n",
    "# svd\n",
    "U,S,Vh = linalg.svd(a); V = Vh.T\n",
    "       "
   ]
  },
  {
   "cell_type": "code",
   "execution_count": 98,
   "id": "b86b2aa7-b6a5-45cf-aab7-ec0b18dd3d7e",
   "metadata": {},
   "outputs": [
    {
     "data": {
      "image/png": "[encoded data removed]",
      "text/plain": [
       "<Figure size 640x480 with 1 Axes>"
      ]
     },
     "metadata": {},
     "output_type": "display_data"
    }
   ],
   "source": [
    "# visualize \n",
    "import numpy as np\n",
    "import matplotlib.pyplot as plt\n",
    "\n",
    "# Create the grid using np.mgrid\n",
    "x, y = np.mgrid[0:9, 0:6]\n",
    "\n",
    "# Plot the grid points\n",
    "plt.scatter(x, y, c='blue', marker='o', s=50)\n",
    "plt.xlabel('X-axis')\n",
    "plt.ylabel('Y-axis')\n",
    "plt.title('Grid Visualization')\n",
    "plt.grid(True)\n",
    "\n",
    "# Show the plot\n",
    "plt.show()"
   ]
  },
  {
   "attachments": {},
   "cell_type": "markdown",
   "id": "bc5a7bb5-1abe-4dc3-906a-9d66a7b664fe",
   "metadata": {},
   "source": [
    "MT practice question:\n",
    "\n",
    "# Inner product with a unit vector\n",
    "Given a unit N-dimensional vector \\(\\hat{u}\\), and an arbitrary N-dimensional vector \\(\\vec{v}\\), write the following (MATLAB or Python) functions:\n",
    "\n",
    "- A function named `projection` that returns a vector that is the component of \\(\\vec{v}\\) lying along the direction \\(\\hat{u}\\).\n",
    "- A function named `ortho` that returns a vector that is the component of \\(\\vec{v}\\) that is orthogonal (perpendicular) to \\(\\hat{u}\\), and\n",
    "- A function named `distance` that returns the distance from \\(\\vec{v}\\) to the component that lies along direction \\(\\hat{u}\\).\n",
    "\n",
    "Verify that your code is working by testing it on random vectors \\(\\hat{u}\\) and \\(\\vec{v}\\) (generate these using `randn` in MATLAB or `np.random.randn` in Python). Remember to re-scale \\(\\hat{u}\\) so that it has unit length. First, do this visually with 2-dimensional vectors, by plotting \\(\\hat{u}\\), \\(\\vec{v}\\), and the two components described in (a) and (b). (hint: execute `axis equal` in MATLAB or `plt.axis('equal')` in Python to ensure that the horizontal and vertical axes have the same units). Then test it numerically in higher dimensions (e.g., 4) by writing expressions to verify each of the following, and executing them on a few randomly drawn vectors \\(\\vec{v}\\):\n",
    "\n",
    "- The vector in (a) points in the same (or opposite) direction as \\(\\hat{u}\\).\n",
    "- The vector in (a) is orthogonal to the vector in (b).\n",
    "- The sum of the vectors in (a) and (b) is equal to \\(\\vec{v}\\).\n",
    "- The sum of squared lengths of the vectors in (a) and (b) is equal to \\(\\|\\vec{v}\\|^2\\)."
   ]
  },
  {
   "cell_type": "code",
   "execution_count": 129,
   "id": "7f4065d1-9e87-4cdf-9a67-a86f4bbf9736",
   "metadata": {},
   "outputs": [
    {
     "data": {
      "image/png": "[encoded data removed]",
      "text/plain": [
       "<Figure size 640x480 with 1 Axes>"
      ]
     },
     "metadata": {},
     "output_type": "display_data"
    }
   ],
   "source": [
    "def unit(u):\n",
    "    return u/np.sqrt(np.sum(u**2))\n",
    "    \n",
    "def projection(u,v):\n",
    "    u = unit(u)\n",
    "    return np.dot(u,v)*u\n",
    "\n",
    "def ortho(u,v):\n",
    "    u = unit(u)\n",
    "    return v - np.dot(u,v)*u\n",
    "\n",
    "def distance(u,v):\n",
    "    u = unit(u)\n",
    "    ortho = v - np.dot(u,v)*u\n",
    "    return np.sqrt(np.sum(ortho**2))\n",
    "\n",
    "# testing 2d\n",
    "u = np.random.randn(2)\n",
    "v = np.random.randn(2)\n",
    "proj_v = projection(u,v)\n",
    "ortho_v = ortho(u,v)\n",
    "plt.figure()\n",
    "plt.plot([0, u[0]], [0, u[1]], 'r', linewidth = 2.0)  \n",
    "plt.plot([0, v[0]], [0, v[1]], 'b', linewidth = 2.0) \n",
    "plt.plot([0, proj_v[0]], [0, proj_v[1]], '--b', linewidth = 0.5) \n",
    "plt.plot([0, ortho_v[0]], [0, ortho_v[1]], '--b', linewidth = 0.5) \n",
    "plt.xlim(-5, 5)  # Set appropriate limits for x-axis\n",
    "plt.ylim(-5, 5)  # Set appropriate limits for y-axis\n",
    "plt.axis('equal')\n",
    "plt.show()"
   ]
  },
  {
   "cell_type": "code",
   "execution_count": 141,
   "id": "2471f65c-0919-43bd-8519-5cd9f93bb2e3",
   "metadata": {},
   "outputs": [
    {
     "name": "stdout",
     "output_type": "stream",
     "text": [
      "[ 0.57985193  0.37407437 -0.41045856 -0.59612404]\n",
      "[-0.57985193 -0.37407437  0.41045856  0.59612404]\n",
      "-2.220446049250313e-16\n",
      "[-1.66172095 -0.9121927   2.21287047 -1.77187529]\n",
      "[-1.66172095 -0.9121927   2.21287047 -1.77187529]\n",
      "11.629749779888327\n",
      "11.629749779888327\n"
     ]
    }
   ],
   "source": [
    "# testing high-d\n",
    "u2 = np.random.randn(4)\n",
    "v2 = np.random.randn(4)\n",
    "#1)\n",
    "proj_v2 = projection(u2,v2)\n",
    "print(unit(u2))\n",
    "print(unit(proj_v2)) \n",
    "# they have the same unit vectors or unit vectors with opposite signs\n",
    "# so they are pointing in the same direction or opposite directions"
   ]
  },
  {
   "cell_type": "code",
   "execution_count": null,
   "id": "e13ae288-5084-48d5-91aa-16d42ad94edc",
   "metadata": {},
   "outputs": [],
   "source": [
    "#2)\n",
    "ortho_v2 = ortho(u2,v2)\n",
    "print(np.dot(ortho_v2, proj_v2))\n",
    "# dot product = 0, therefore orthogonal "
   ]
  },
  {
   "cell_type": "code",
   "execution_count": null,
   "id": "a804516d-dc97-4b54-82a0-77d8fba0c53d",
   "metadata": {},
   "outputs": [],
   "source": [
    "#3)\n",
    "print(v2)\n",
    "print(ortho_v2 + proj_v2)\n",
    "# yuppp equal"
   ]
  },
  {
   "cell_type": "code",
   "execution_count": null,
   "id": "97188713-04a2-4735-adc2-dda2555ef9bd",
   "metadata": {},
   "outputs": [],
   "source": [
    "#4)\n",
    "def length(a):\n",
    "    return np.sqrt(sum(a**2))\n",
    "print(length(v2)**2)\n",
    "sum_sq_len = length(proj_v2)**2 + length(ortho_v2)**2\n",
    "print(sum_sq_len)"
   ]
  }
 ],
 "metadata": {
  "kernelspec": {
   "display_name": "Python 3 (ipykernel)",
   "language": "python",
   "name": "python3"
  },
  "language_info": {
   "codemirror_mode": {
    "name": "ipython",
    "version": 3
   },
   "file_extension": ".py",
   "mimetype": "text/x-python",
   "name": "python",
   "nbconvert_exporter": "python",
   "pygments_lexer": "ipython3",
   "version": "3.11.4"
  }
 },
 "nbformat": 4,
 "nbformat_minor": 5
}
