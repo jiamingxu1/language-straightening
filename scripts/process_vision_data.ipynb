{
 "cells": [
  {
   "cell_type": "code",
   "execution_count": 89,
   "id": "9583de62-6080-44e4-8e59-62a9884c14b4",
   "metadata": {},
   "outputs": [],
   "source": [
    "import os\n",
    "os.chdir('/Users/jiamingxu/Desktop/Language_straightenting/data/bootcamp-stuff/bootcamp')"
   ]
  },
  {
   "cell_type": "code",
   "execution_count": 90,
   "id": "16f13bbb-5cc4-4044-88b9-1f7d2c6eadff",
   "metadata": {},
   "outputs": [],
   "source": [
    "import h5py\n",
    "import cortex\n",
    "import numpy as np      \n",
    "import itertools\n",
    "from utils import draw_slices"
   ]
  },
  {
   "cell_type": "code",
   "execution_count": 91,
   "id": "41d08b48-7b86-4360-b196-14234a35a5be",
   "metadata": {},
   "outputs": [],
   "source": [
    "# load data\n",
    "template = np.load(\"template.npy\")\n",
    "resp_raw = h5py.File('validation_notavg.hf5','r+')['data'][:, :31]\n",
    "# re-order data\n",
    "valorder = [2, 1, 3, 2, 3, 1, 3, 2, 1, 3, 1, 2, 3, 1, 2, 1, 2, 3, 2, 1, 3, 3, 2, 1, 1, 2, 3, 1, 2, 3]\n",
    "numblocks = len(valorder)\n",
    "blocklen = 30"
   ]
  },
  {
   "cell_type": "code",
   "execution_count": 92,
   "id": "83b86c6d-908f-4fa5-9be6-2d4e48219c4f",
   "metadata": {},
   "outputs": [
    {
     "data": {
      "text/plain": [
       "((31, 100, 100), 80615)"
      ]
     },
     "execution_count": 92,
     "metadata": {},
     "output_type": "execute_result"
    }
   ],
   "source": [
    "# get mask\n",
    "subject, xfm = 'S1', 'fullhead'\n",
    "mask = cortex.db.get_mask(subject, xfm)\n",
    "mask.shape, np.sum(mask)"
   ]
  },
  {
   "cell_type": "code",
   "execution_count": 81,
   "id": "42a865ba-59ea-4717-865d-c55bb7be65cf",
   "metadata": {},
   "outputs": [],
   "source": [
    "nan_idx = np.where(np.all(np.isnan(resp_raw), axis = 0))\n",
    "nan_mask = np.ones_like(mask, dtype = bool) \n",
    "nan_mask[nan_idx] = False"
   ]
  },
  {
   "cell_type": "code",
   "execution_count": 93,
   "id": "8dbbe7ab-62b8-4ebd-a2db-bf1ea4b53ab9",
   "metadata": {},
   "outputs": [],
   "source": [
    "nRep, TR, Z, Y, X, = 10, 90, 31, 100, 100\n",
    "resp_vol = np.zeros((nRep, TR, Z, Y, X))\n",
    "\n",
    "for sl in range(Z):\n",
    "    slicedata = resp_raw[:,sl,:,:]\n",
    "    resp_sl = np.zeros((nRep,TR,Y,X))\n",
    "    for y,x in ((y,x) for x in range(X) for y in range(Y)):\n",
    "        data = slicedata[:,y,x] \n",
    "\n",
    "        ## Reshape and reorder the data\n",
    "        rsdata = data.reshape(numblocks, blocklen) #30 blocks * 30 TRs\n",
    "        blocksets = [[], [], []]\n",
    "        for blocknum, blockset in enumerate(valorder):\n",
    "            blocksets[blockset-1].append(rsdata[blocknum])\n",
    "        \n",
    "        ## Combine the reordered data for each pixel\n",
    "        rodata = np.hstack([np.vstack(b) for b in blocksets]) #(10,90)\n",
    "        resp_sl[:,:,y,x] = rodata\n",
    "        \n",
    "    ## Store reordered responses in the big volume\n",
    "    resp_vol[:, :, sl, :, :] = resp_sl"
   ]
  },
  {
   "cell_type": "code",
   "execution_count": 94,
   "id": "7fa72eea-4f57-402e-9184-ec68b298f525",
   "metadata": {},
   "outputs": [],
   "source": [
    "# apply mask\n",
    "# combined_mask = mask & nan_mask\n",
    "# resp = resp_vol[:,:,combined_mask]\n",
    "resp_vol_nonan = np.nan_to_num(resp_vol, nan=0)\n",
    "resp = resp_vol_nonan[:,:,mask]"
   ]
  },
  {
   "cell_type": "code",
   "execution_count": 86,
   "id": "c25d210e-e62c-4c3b-b656-c072f6f3e199",
   "metadata": {},
   "outputs": [
    {
     "data": {
      "text/plain": [
       "80615"
      ]
     },
     "execution_count": 86,
     "metadata": {},
     "output_type": "execute_result"
    }
   ],
   "source": [
    "np.sum(mask == True)"
   ]
  },
  {
   "cell_type": "code",
   "execution_count": 95,
   "id": "485412af-980e-435d-9d6a-98c9a5370927",
   "metadata": {},
   "outputs": [],
   "source": [
    "# save data\n",
    "output_dir = '/Users/jiamingxu/Desktop/Language_straightenting/data/vision_fixation'\n",
    "output_file = 'vision_fixation_resp.hf5'\n",
    "mask_file = 'nan_mask.npy'\n",
    "output_path = os.path.join(output_dir, output_file)\n",
    "mask_path = os.path.join(output_dir, mask_file)\n",
    "os.makedirs(output_dir, exist_ok = True)\n",
    "with h5py.File(output_path,'w') as f:\n",
    "    f.create_dataset('data', data=resp)\n",
    "    \n",
    "#np.save(mask_path, nan_mask)"
   ]
  },
  {
   "cell_type": "code",
   "execution_count": null,
   "id": "888ab8c5-ae25-465e-b073-f5a48e94f451",
   "metadata": {},
   "outputs": [],
   "source": []
  }
 ],
 "metadata": {
  "kernelspec": {
   "display_name": "Python 3 (ipykernel)",
   "language": "python",
   "name": "python3"
  },
  "language_info": {
   "codemirror_mode": {
    "name": "ipython",
    "version": 3
   },
   "file_extension": ".py",
   "mimetype": "text/x-python",
   "name": "python",
   "nbconvert_exporter": "python",
   "pygments_lexer": "ipython3",
   "version": "3.11.4"
  }
 },
 "nbformat": 4,
 "nbformat_minor": 5
}
